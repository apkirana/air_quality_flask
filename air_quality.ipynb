{
 "cells": [
  {
   "cell_type": "code",
   "execution_count": 4,
   "metadata": {},
   "outputs": [
    {
     "name": "stdout",
     "output_type": "stream",
     "text": [
      "Packages installed successfully!\n"
     ]
    }
   ],
   "source": [
    "import pandas as pd\n",
    "import matplotlib.pyplot as plt\n",
    "import seaborn as sns\n",
    "from statsmodels.tsa.seasonal import seasonal_decompose\n",
    "from sklearn.model_selection import train_test_split\n",
    "from sklearn.ensemble import RandomForestRegressor\n",
    "from sklearn.metrics import mean_squared_error, r2_score\n",
    "print(\"Packages installed successfully!\")\n",
    "\n",
    "#source env/bin/activate"
   ]
  },
  {
   "cell_type": "code",
   "execution_count": 6,
   "metadata": {},
   "outputs": [],
   "source": [
    "#run this if doesn work in terminal\n",
    "#pip install pandas numpy matplotlib seaborn scikit-learn\n",
    "#Load the dataset\n",
    "data = pd.read_csv('data/global_air_pollution_data.csv')\n"
   ]
  },
  {
   "cell_type": "code",
   "execution_count": 7,
   "metadata": {},
   "outputs": [
    {
     "name": "stdout",
     "output_type": "stream",
     "text": [
      "         country_name         city_name  aqi_value aqi_category  \\\n",
      "0  Russian Federation        Praskoveya         51     Moderate   \n",
      "1              Brazil  Presidente Dutra         41         Good   \n",
      "2               Italy   Priolo Gargallo         66     Moderate   \n",
      "3              Poland         Przasnysz         34         Good   \n",
      "4              France          Punaauia         22         Good   \n",
      "\n",
      "   co_aqi_value\\t co_aqi_category  ozone_aqi_value ozone_aqi_category  \\\n",
      "0               1            Good               36               Good   \n",
      "1               1            Good                5               Good   \n",
      "2               1            Good               39               Good   \n",
      "3               1            Good               34               Good   \n",
      "4               0            Good               22               Good   \n",
      "\n",
      "   no2_aqi_value no2_aqi_category  pm2.5_aqi_value pm2.5_aqi_category  \n",
      "0              0             Good               51           Moderate  \n",
      "1              1             Good               41               Good  \n",
      "2              2             Good               66           Moderate  \n",
      "3              0             Good               20               Good  \n",
      "4              0             Good                6               Good  \n"
     ]
    }
   ],
   "source": [
    "# Display the first few rows\n",
    "print(data.head())"
   ]
  },
  {
   "cell_type": "code",
   "execution_count": 8,
   "metadata": {},
   "outputs": [
    {
     "name": "stdout",
     "output_type": "stream",
     "text": [
      "<class 'pandas.core.frame.DataFrame'>\n",
      "RangeIndex: 23463 entries, 0 to 23462\n",
      "Data columns (total 12 columns):\n",
      " #   Column              Non-Null Count  Dtype \n",
      "---  ------              --------------  ----- \n",
      " 0   country_name        23036 non-null  object\n",
      " 1   city_name           23462 non-null  object\n",
      " 2   aqi_value           23463 non-null  int64 \n",
      " 3   aqi_category        23463 non-null  object\n",
      " 4   co_aqi_value\t       23463 non-null  int64 \n",
      " 5   co_aqi_category     23463 non-null  object\n",
      " 6   ozone_aqi_value     23463 non-null  int64 \n",
      " 7   ozone_aqi_category  23463 non-null  object\n",
      " 8   no2_aqi_value       23463 non-null  int64 \n",
      " 9   no2_aqi_category    23463 non-null  object\n",
      " 10  pm2.5_aqi_value     23463 non-null  int64 \n",
      " 11  pm2.5_aqi_category  23463 non-null  object\n",
      "dtypes: int64(5), object(7)\n",
      "memory usage: 2.1+ MB\n",
      "None\n"
     ]
    }
   ],
   "source": [
    "# Display basic information about the dataset\n",
    "print(data.info())\n"
   ]
  },
  {
   "cell_type": "code",
   "execution_count": 9,
   "metadata": {},
   "outputs": [
    {
     "name": "stdout",
     "output_type": "stream",
     "text": [
      "country_name          427\n",
      "city_name               1\n",
      "aqi_value               0\n",
      "aqi_category            0\n",
      "co_aqi_value\\t          0\n",
      "co_aqi_category         0\n",
      "ozone_aqi_value         0\n",
      "ozone_aqi_category      0\n",
      "no2_aqi_value           0\n",
      "no2_aqi_category        0\n",
      "pm2.5_aqi_value         0\n",
      "pm2.5_aqi_category      0\n",
      "dtype: int64\n"
     ]
    }
   ],
   "source": [
    "# Check for missing values\n",
    "print(data.isnull().sum())"
   ]
  },
  {
   "cell_type": "code",
   "execution_count": 10,
   "metadata": {},
   "outputs": [
    {
     "name": "stdout",
     "output_type": "stream",
     "text": [
      "          aqi_value  co_aqi_value\\t  ozone_aqi_value  no2_aqi_value  \\\n",
      "count  23463.000000    23463.000000     23463.000000   23463.000000   \n",
      "mean      72.010868        1.368367        35.193709       3.063334   \n",
      "std       56.055220        1.832064        28.098723       5.254108   \n",
      "min        6.000000        0.000000         0.000000       0.000000   \n",
      "25%       39.000000        1.000000        21.000000       0.000000   \n",
      "50%       55.000000        1.000000        31.000000       1.000000   \n",
      "75%       79.000000        1.000000        40.000000       4.000000   \n",
      "max      500.000000      133.000000       235.000000      91.000000   \n",
      "\n",
      "       pm2.5_aqi_value  \n",
      "count     23463.000000  \n",
      "mean         68.519755  \n",
      "std          54.796443  \n",
      "min           0.000000  \n",
      "25%          35.000000  \n",
      "50%          54.000000  \n",
      "75%          79.000000  \n",
      "max         500.000000  \n"
     ]
    }
   ],
   "source": [
    "# Summary statistics\n",
    "print(data.describe())"
   ]
  },
  {
   "cell_type": "code",
   "execution_count": 11,
   "metadata": {},
   "outputs": [
    {
     "name": "stdout",
     "output_type": "stream",
     "text": [
      "          aqi_value  co_aqi_value\\t  ozone_aqi_value  no2_aqi_value  \\\n",
      "count  23463.000000    23463.000000     23463.000000   23463.000000   \n",
      "mean      72.010868        1.368367        35.193709       3.063334   \n",
      "std       56.055220        1.832064        28.098723       5.254108   \n",
      "min        6.000000        0.000000         0.000000       0.000000   \n",
      "25%       39.000000        1.000000        21.000000       0.000000   \n",
      "50%       55.000000        1.000000        31.000000       1.000000   \n",
      "75%       79.000000        1.000000        40.000000       4.000000   \n",
      "max      500.000000      133.000000       235.000000      91.000000   \n",
      "\n",
      "       pm2.5_aqi_value  \n",
      "count     23463.000000  \n",
      "mean         68.519755  \n",
      "std          54.796443  \n",
      "min           0.000000  \n",
      "25%          35.000000  \n",
      "50%          54.000000  \n",
      "75%          79.000000  \n",
      "max         500.000000  \n"
     ]
    }
   ],
   "source": [
    "# Summary statistics\n",
    "print(data.describe())"
   ]
  },
  {
   "cell_type": "code",
   "execution_count": 12,
   "metadata": {},
   "outputs": [
    {
     "name": "stdout",
     "output_type": "stream",
     "text": [
      "aqi_value          0\n",
      "co_aqi_value\\t     0\n",
      "ozone_aqi_value    0\n",
      "no2_aqi_value      0\n",
      "pm2.5_aqi_value    0\n",
      "dtype: int64\n"
     ]
    }
   ],
   "source": [
    "numeric_cols = data.select_dtypes(include='number').columns\n",
    "data[numeric_cols] = data[numeric_cols].fillna(data[numeric_cols].mean())\n",
    "\n",
    "# Verify that there are no missing values left in numeric columns\n",
    "print(data[numeric_cols].isnull().sum())"
   ]
  },
  {
   "cell_type": "code",
   "execution_count": 20,
   "metadata": {},
   "outputs": [],
   "source": [
    "# Remove duplicates\n",
    "data.drop_duplicates(inplace=True)"
   ]
  },
  {
   "cell_type": "code",
   "execution_count": 13,
   "metadata": {},
   "outputs": [
    {
     "name": "stdout",
     "output_type": "stream",
     "text": [
      "Index(['country_name', 'city_name', 'aqi_value', 'aqi_category',\n",
      "       'co_aqi_value\\t', 'co_aqi_category', 'ozone_aqi_value',\n",
      "       'ozone_aqi_category', 'no2_aqi_value', 'no2_aqi_category',\n",
      "       'pm2.5_aqi_value', 'pm2.5_aqi_category'],\n",
      "      dtype='object')\n"
     ]
    }
   ],
   "source": [
    "# Print column names to verify the existence of 'date'\n",
    "print(data.columns)"
   ]
  },
  {
   "cell_type": "code",
   "execution_count": 14,
   "metadata": {},
   "outputs": [
    {
     "name": "stdout",
     "output_type": "stream",
     "text": [
      "Date column not found in the dataset\n",
      "         country_name         city_name  aqi_value aqi_category  \\\n",
      "0  Russian Federation        Praskoveya         51     Moderate   \n",
      "1              Brazil  Presidente Dutra         41         Good   \n",
      "2               Italy   Priolo Gargallo         66     Moderate   \n",
      "3              Poland         Przasnysz         34         Good   \n",
      "4              France          Punaauia         22         Good   \n",
      "\n",
      "   co_aqi_value\\t co_aqi_category  ozone_aqi_value ozone_aqi_category  \\\n",
      "0               1            Good               36               Good   \n",
      "1               1            Good                5               Good   \n",
      "2               1            Good               39               Good   \n",
      "3               1            Good               34               Good   \n",
      "4               0            Good               22               Good   \n",
      "\n",
      "   no2_aqi_value no2_aqi_category  pm2.5_aqi_value pm2.5_aqi_category  \n",
      "0              0             Good               51           Moderate  \n",
      "1              1             Good               41               Good  \n",
      "2              2             Good               66           Moderate  \n",
      "3              0             Good               20               Good  \n",
      "4              0             Good                6               Good  \n"
     ]
    }
   ],
   "source": [
    "# Convert data types if necessary (update based on your dataset)\n",
    "if 'date' in data.columns:\n",
    "    data['date'] = pd.to_datetime(data['date'])\n",
    "elif 'Date' in data.columns:\n",
    "    data['Date'] = pd.to_datetime(data['Date'])\n",
    "else:\n",
    "    print(\"Date column not found in the dataset\")\n",
    "\n",
    "# Display the first few rows to verify changes\n",
    "print(data.head())"
   ]
  },
  {
   "cell_type": "code",
   "execution_count": 15,
   "metadata": {},
   "outputs": [
    {
     "name": "stderr",
     "output_type": "stream",
     "text": [
      "/Users/puspakirana/Library/Python/3.9/lib/python/site-packages/seaborn/utils.py:61: UserWarning: Glyph 9 (\t) missing from font(s) DejaVu Sans.\n",
      "  fig.canvas.draw()\n",
      "/Users/puspakirana/Library/Python/3.9/lib/python/site-packages/IPython/core/pylabtools.py:152: UserWarning: Glyph 9 (\t) missing from font(s) DejaVu Sans.\n",
      "  fig.canvas.print_figure(bytes_io, **kw)\n"
     ]
    },
    {
     "data": {
      "image/png": "[encoded data removed]",
      "text/plain": [
       "<Figure size 1200x800 with 2 Axes>"
      ]
     },
     "metadata": {},
     "output_type": "display_data"
    }
   ],
   "source": [
    "# Select only numeric columns for the correlation matrix\n",
    "numeric_data = data.select_dtypes(include='number')\n",
    "\n",
    "# Correlation matrix\n",
    "plt.figure(figsize=(12, 8))\n",
    "sns.heatmap(numeric_data.corr(), annot=True, cmap='coolwarm')\n",
    "plt.title('Correlation Matrix')\n",
    "plt.show()"
   ]
  },
  {
   "cell_type": "markdown",
   "metadata": {},
   "source": [
    "### Explanation of the Correlation Matrix\n",
    "\n",
    "A correlation matrix is a table showing correlation coefficients between many variables. Each cell in the table shows the correlation between two variables. The value is in the range of -1 to 1.\n",
    "\n",
    "1 indicates a perfect positive correlation.\n",
    "-1 indicates a perfect negative correlation.\n",
    "0 indicates no correlation.\n",
    "\n",
    "### Result heatmap:\n",
    "\n",
    "Diagonal Values: These are all 1.0 because a variable is always perfectly correlated with itself.\n",
    "Off-Diagonal Values: These show the pairwise correlations between different variables.\n",
    "\n",
    "### Interpretation of the Heatmap\n",
    "\n",
    "1.\tStrong Positive Correlations (close to 1):\n",
    "\taqi_value and pm2.5_aqi_value (0.98): This strong positive correlation indicates that as pm2.5_aqi_value increases, the aqi_value also increases significantly. PM2.5 (particulate matter with diameter less than 2.5 micrometers) is a major component of air pollution and heavily influences the Air Quality Index (AQI).co_aqi_value and no2_aqi_value (0.49): Carbon monoxide and nitrogen dioxide show a moderate positive correlation, suggesting they often increase or decrease together.\n",
    "\n",
    "2.\tModerate Positive Correlations (0.3 to 0.5):\n",
    "\tco_aqi_value and pm2.5_aqi_value (0.44): This suggests that there is a moderate relationship between carbon monoxide and PM2.5 levels.\n",
    "\tozone_aqi_value and co_aqi_value (0.15): Although lower, there is still a noticeable correlation indicating these pollutants can sometimes increase or decrease together.\n",
    "\n",
    "3.\tWeak or Negative Correlations (close to 0 or negative)\n",
    "\tno2_aqi_value and ozone_aqi_value (-0.18): A negative correlation here suggests that these two pollutants might often be inversely related; when one is high, the other might be low.\n",
    "\n",
    "### Insights\n",
    "\n",
    "1. Impact on AQI: The pm2.5_aqi_value has the highest impact on the overall aqi_value, indicating it is the primary pollutant driving the AQI values in your dataset.\n",
    "2. Pairwise Relations: The positive correlation between co_aqi_value and no2_aqi_value suggests that these pollutants often come from similar sources or conditions, such as traffic emissions.\n",
    "3. Inverse Relationships: The negative correlation between ozone_aqi_value and no2_aqi_value can be indicative of complex chemical interactions in the atmosphere where the presence of one can reduce the other.\n"
   ]
  },
  {
   "cell_type": "markdown",
   "metadata": {},
   "source": [
    "## PM2.5 Analysis"
   ]
  },
  {
   "cell_type": "code",
   "execution_count": 18,
   "metadata": {},
   "outputs": [],
   "source": [
    "import pandas as pd\n",
    "import streamlit as st\n",
    "\n",
    "# Load the dataset\n",
    "data = pd.read_csv('data/global_air_pollution_data.csv')\n"
   ]
  },
  {
   "cell_type": "markdown",
   "metadata": {},
   "source": [
    "###  Analyzing the seasonal trends and daily patterns of PM2.5 concentrations.\n",
    "\n",
    "#### Time Series Decomposition\n",
    "\n",
    "break down the time series data into its seasonal, trend, and residual components."
   ]
  },
  {
   "cell_type": "markdown",
   "metadata": {},
   "source": [
    "#### Display the first few rows of the dataset"
   ]
  },
  {
   "cell_type": "code",
   "execution_count": 19,
   "metadata": {},
   "outputs": [
    {
     "name": "stdout",
     "output_type": "stream",
     "text": [
      "First few rows of the dataset:\n"
     ]
    },
    {
     "data": {
      "text/html": [
       "<div>\n",
       "<style scoped>\n",
       "    .dataframe tbody tr th:only-of-type {\n",
       "        vertical-align: middle;\n",
       "    }\n",
       "\n",
       "    .dataframe tbody tr th {\n",
       "        vertical-align: top;\n",
       "    }\n",
       "\n",
       "    .dataframe thead th {\n",
       "        text-align: right;\n",
       "    }\n",
       "</style>\n",
       "<table border=\"1\" class=\"dataframe\">\n",
       "  <thead>\n",
       "    <tr style=\"text-align: right;\">\n",
       "      <th></th>\n",
       "      <th>country_name</th>\n",
       "      <th>city_name</th>\n",
       "      <th>aqi_value</th>\n",
       "      <th>aqi_category</th>\n",
       "      <th>co_aqi_value\\t</th>\n",
       "      <th>co_aqi_category</th>\n",
       "      <th>ozone_aqi_value</th>\n",
       "      <th>ozone_aqi_category</th>\n",
       "      <th>no2_aqi_value</th>\n",
       "      <th>no2_aqi_category</th>\n",
       "      <th>pm2.5_aqi_value</th>\n",
       "      <th>pm2.5_aqi_category</th>\n",
       "    </tr>\n",
       "  </thead>\n",
       "  <tbody>\n",
       "    <tr>\n",
       "      <th>0</th>\n",
       "      <td>Russian Federation</td>\n",
       "      <td>Praskoveya</td>\n",
       "      <td>51</td>\n",
       "      <td>Moderate</td>\n",
       "      <td>1</td>\n",
       "      <td>Good</td>\n",
       "      <td>36</td>\n",
       "      <td>Good</td>\n",
       "      <td>0</td>\n",
       "      <td>Good</td>\n",
       "      <td>51</td>\n",
       "      <td>Moderate</td>\n",
       "    </tr>\n",
       "    <tr>\n",
       "      <th>1</th>\n",
       "      <td>Brazil</td>\n",
       "      <td>Presidente Dutra</td>\n",
       "      <td>41</td>\n",
       "      <td>Good</td>\n",
       "      <td>1</td>\n",
       "      <td>Good</td>\n",
       "      <td>5</td>\n",
       "      <td>Good</td>\n",
       "      <td>1</td>\n",
       "      <td>Good</td>\n",
       "      <td>41</td>\n",
       "      <td>Good</td>\n",
       "    </tr>\n",
       "    <tr>\n",
       "      <th>2</th>\n",
       "      <td>Italy</td>\n",
       "      <td>Priolo Gargallo</td>\n",
       "      <td>66</td>\n",
       "      <td>Moderate</td>\n",
       "      <td>1</td>\n",
       "      <td>Good</td>\n",
       "      <td>39</td>\n",
       "      <td>Good</td>\n",
       "      <td>2</td>\n",
       "      <td>Good</td>\n",
       "      <td>66</td>\n",
       "      <td>Moderate</td>\n",
       "    </tr>\n",
       "    <tr>\n",
       "      <th>3</th>\n",
       "      <td>Poland</td>\n",
       "      <td>Przasnysz</td>\n",
       "      <td>34</td>\n",
       "      <td>Good</td>\n",
       "      <td>1</td>\n",
       "      <td>Good</td>\n",
       "      <td>34</td>\n",
       "      <td>Good</td>\n",
       "      <td>0</td>\n",
       "      <td>Good</td>\n",
       "      <td>20</td>\n",
       "      <td>Good</td>\n",
       "    </tr>\n",
       "    <tr>\n",
       "      <th>4</th>\n",
       "      <td>France</td>\n",
       "      <td>Punaauia</td>\n",
       "      <td>22</td>\n",
       "      <td>Good</td>\n",
       "      <td>0</td>\n",
       "      <td>Good</td>\n",
       "      <td>22</td>\n",
       "      <td>Good</td>\n",
       "      <td>0</td>\n",
       "      <td>Good</td>\n",
       "      <td>6</td>\n",
       "      <td>Good</td>\n",
       "    </tr>\n",
       "  </tbody>\n",
       "</table>\n",
       "</div>"
      ],
      "text/plain": [
       "         country_name         city_name  aqi_value aqi_category  \\\n",
       "0  Russian Federation        Praskoveya         51     Moderate   \n",
       "1              Brazil  Presidente Dutra         41         Good   \n",
       "2               Italy   Priolo Gargallo         66     Moderate   \n",
       "3              Poland         Przasnysz         34         Good   \n",
       "4              France          Punaauia         22         Good   \n",
       "\n",
       "   co_aqi_value\\t co_aqi_category  ozone_aqi_value ozone_aqi_category  \\\n",
       "0               1            Good               36               Good   \n",
       "1               1            Good                5               Good   \n",
       "2               1            Good               39               Good   \n",
       "3               1            Good               34               Good   \n",
       "4               0            Good               22               Good   \n",
       "\n",
       "   no2_aqi_value no2_aqi_category  pm2.5_aqi_value pm2.5_aqi_category  \n",
       "0              0             Good               51           Moderate  \n",
       "1              1             Good               41               Good  \n",
       "2              2             Good               66           Moderate  \n",
       "3              0             Good               20               Good  \n",
       "4              0             Good                6               Good  "
      ]
     },
     "metadata": {},
     "output_type": "display_data"
    }
   ],
   "source": [
    "print(\"First few rows of the dataset:\")\n",
    "display(data.head())"
   ]
  },
  {
   "cell_type": "markdown",
   "metadata": {},
   "source": [
    "#### Display the column names to inspect what is available"
   ]
  },
  {
   "cell_type": "code",
   "execution_count": 20,
   "metadata": {},
   "outputs": [
    {
     "name": "stdout",
     "output_type": "stream",
     "text": [
      "Column names in the dataset:\n",
      "Index(['country_name', 'city_name', 'aqi_value', 'aqi_category',\n",
      "       'co_aqi_value\\t', 'co_aqi_category', 'ozone_aqi_value',\n",
      "       'ozone_aqi_category', 'no2_aqi_value', 'no2_aqi_category',\n",
      "       'pm2.5_aqi_value', 'pm2.5_aqi_category'],\n",
      "      dtype='object')\n"
     ]
    }
   ],
   "source": [
    "print(\"Column names in the dataset:\")\n",
    "print(data.columns)\n"
   ]
  },
  {
   "cell_type": "markdown",
   "metadata": {},
   "source": [
    "#### Handle missing values"
   ]
  },
  {
   "cell_type": "code",
   "execution_count": 21,
   "metadata": {},
   "outputs": [],
   "source": [
    "numeric_cols = data.select_dtypes(include='number').columns\n",
    "data[numeric_cols] = data[numeric_cols].fillna(data[numeric_cols].mean())"
   ]
  },
  {
   "cell_type": "markdown",
   "metadata": {},
   "source": [
    "#### Select a country for filtering (for example, 'Indonesia')"
   ]
  },
  {
   "cell_type": "code",
   "execution_count": 22,
   "metadata": {},
   "outputs": [
    {
     "name": "stdout",
     "output_type": "stream",
     "text": [
      "Air Quality Data for Indonesia:\n"
     ]
    },
    {
     "data": {
      "text/html": [
       "<div>\n",
       "<style scoped>\n",
       "    .dataframe tbody tr th:only-of-type {\n",
       "        vertical-align: middle;\n",
       "    }\n",
       "\n",
       "    .dataframe tbody tr th {\n",
       "        vertical-align: top;\n",
       "    }\n",
       "\n",
       "    .dataframe thead th {\n",
       "        text-align: right;\n",
       "    }\n",
       "</style>\n",
       "<table border=\"1\" class=\"dataframe\">\n",
       "  <thead>\n",
       "    <tr style=\"text-align: right;\">\n",
       "      <th></th>\n",
       "      <th>country_name</th>\n",
       "      <th>city_name</th>\n",
       "      <th>aqi_value</th>\n",
       "      <th>aqi_category</th>\n",
       "      <th>co_aqi_value\\t</th>\n",
       "      <th>co_aqi_category</th>\n",
       "      <th>ozone_aqi_value</th>\n",
       "      <th>ozone_aqi_category</th>\n",
       "      <th>no2_aqi_value</th>\n",
       "      <th>no2_aqi_category</th>\n",
       "      <th>pm2.5_aqi_value</th>\n",
       "      <th>pm2.5_aqi_category</th>\n",
       "    </tr>\n",
       "  </thead>\n",
       "  <tbody>\n",
       "    <tr>\n",
       "      <th>31</th>\n",
       "      <td>Indonesia</td>\n",
       "      <td>Pontianak</td>\n",
       "      <td>44</td>\n",
       "      <td>Good</td>\n",
       "      <td>1</td>\n",
       "      <td>Good</td>\n",
       "      <td>15</td>\n",
       "      <td>Good</td>\n",
       "      <td>0</td>\n",
       "      <td>Good</td>\n",
       "      <td>44</td>\n",
       "      <td>Good</td>\n",
       "    </tr>\n",
       "    <tr>\n",
       "      <th>96</th>\n",
       "      <td>Indonesia</td>\n",
       "      <td>Tidore</td>\n",
       "      <td>21</td>\n",
       "      <td>Good</td>\n",
       "      <td>0</td>\n",
       "      <td>Good</td>\n",
       "      <td>13</td>\n",
       "      <td>Good</td>\n",
       "      <td>0</td>\n",
       "      <td>Good</td>\n",
       "      <td>21</td>\n",
       "      <td>Good</td>\n",
       "    </tr>\n",
       "    <tr>\n",
       "      <th>193</th>\n",
       "      <td>Indonesia</td>\n",
       "      <td>Sungaipenuh</td>\n",
       "      <td>17</td>\n",
       "      <td>Good</td>\n",
       "      <td>1</td>\n",
       "      <td>Good</td>\n",
       "      <td>13</td>\n",
       "      <td>Good</td>\n",
       "      <td>0</td>\n",
       "      <td>Good</td>\n",
       "      <td>17</td>\n",
       "      <td>Good</td>\n",
       "    </tr>\n",
       "    <tr>\n",
       "      <th>215</th>\n",
       "      <td>Indonesia</td>\n",
       "      <td>Tarogong</td>\n",
       "      <td>88</td>\n",
       "      <td>Moderate</td>\n",
       "      <td>2</td>\n",
       "      <td>Good</td>\n",
       "      <td>53</td>\n",
       "      <td>Moderate</td>\n",
       "      <td>1</td>\n",
       "      <td>Good</td>\n",
       "      <td>88</td>\n",
       "      <td>Moderate</td>\n",
       "    </tr>\n",
       "    <tr>\n",
       "      <th>353</th>\n",
       "      <td>Indonesia</td>\n",
       "      <td>Binjai</td>\n",
       "      <td>92</td>\n",
       "      <td>Moderate</td>\n",
       "      <td>2</td>\n",
       "      <td>Good</td>\n",
       "      <td>45</td>\n",
       "      <td>Good</td>\n",
       "      <td>0</td>\n",
       "      <td>Good</td>\n",
       "      <td>92</td>\n",
       "      <td>Moderate</td>\n",
       "    </tr>\n",
       "  </tbody>\n",
       "</table>\n",
       "</div>"
      ],
      "text/plain": [
       "    country_name    city_name  aqi_value aqi_category  co_aqi_value\\t  \\\n",
       "31     Indonesia    Pontianak         44         Good               1   \n",
       "96     Indonesia       Tidore         21         Good               0   \n",
       "193    Indonesia  Sungaipenuh         17         Good               1   \n",
       "215    Indonesia     Tarogong         88     Moderate               2   \n",
       "353    Indonesia       Binjai         92     Moderate               2   \n",
       "\n",
       "    co_aqi_category  ozone_aqi_value ozone_aqi_category  no2_aqi_value  \\\n",
       "31             Good               15               Good              0   \n",
       "96             Good               13               Good              0   \n",
       "193            Good               13               Good              0   \n",
       "215            Good               53           Moderate              1   \n",
       "353            Good               45               Good              0   \n",
       "\n",
       "    no2_aqi_category  pm2.5_aqi_value pm2.5_aqi_category  \n",
       "31              Good               44               Good  \n",
       "96              Good               21               Good  \n",
       "193             Good               17               Good  \n",
       "215             Good               88           Moderate  \n",
       "353             Good               92           Moderate  "
      ]
     },
     "metadata": {},
     "output_type": "display_data"
    }
   ],
   "source": [
    "selected_country = 'Indonesia'\n",
    "filtered_data = data[data['country_name'] == selected_country]\n",
    "# Display the first few rows of filtered data\n",
    "print(f\"Air Quality Data for {selected_country}:\")\n",
    "display(filtered_data.head())"
   ]
  },
  {
   "cell_type": "markdown",
   "metadata": {},
   "source": [
    "#### Check for missing values in 'pm2.5_aqi_value'"
   ]
  },
  {
   "cell_type": "code",
   "execution_count": 23,
   "metadata": {},
   "outputs": [],
   "source": [
    "if filtered_data['pm2.5_aqi_value'].isnull().sum() > 0:\n",
    "    print(\"Warning: Missing values found in 'pm2.5_aqi_value'. These will be dropped for the histogram plot.\")\n",
    "    filtered_data = filtered_data.dropna(subset=['pm2.5_aqi_value'])\n"
   ]
  },
  {
   "cell_type": "markdown",
   "metadata": {},
   "source": [
    "### Distribution of PM2.5 AQI Value"
   ]
  },
  {
   "cell_type": "code",
   "execution_count": 24,
   "metadata": {},
   "outputs": [
    {
     "name": "stdout",
     "output_type": "stream",
     "text": [
      "Distribution of PM2.5 AQI Value\n"
     ]
    },
    {
     "data": {
      "image/png": "[encoded data removed]",
      "text/plain": [
       "<Figure size 1000x600 with 1 Axes>"
      ]
     },
     "metadata": {},
     "output_type": "display_data"
    }
   ],
   "source": [
    "print(\"Distribution of PM2.5 AQI Value\")\n",
    "plt.figure(figsize=(10, 6))\n",
    "sns.histplot(filtered_data['pm2.5_aqi_value'], kde=True)\n",
    "plt.title('Distribution of PM2.5 AQI Value')\n",
    "plt.xlabel('PM2.5 AQI Value')\n",
    "plt.ylabel('Frequency')\n",
    "plt.show()"
   ]
  },
  {
   "cell_type": "markdown",
   "metadata": {},
   "source": [
    "### PM2.5 vs AQI"
   ]
  },
  {
   "cell_type": "code",
   "execution_count": 25,
   "metadata": {},
   "outputs": [
    {
     "name": "stdout",
     "output_type": "stream",
     "text": [
      "PM2.5 vs AQI\n"
     ]
    },
    {
     "data": {
      "image/png": "[encoded data removed]",
      "text/plain": [
       "<Figure size 1000x600 with 1 Axes>"
      ]
     },
     "metadata": {},
     "output_type": "display_data"
    }
   ],
   "source": [
    "print(\"PM2.5 vs AQI\")\n",
    "plt.figure(figsize=(10, 6))\n",
    "sns.scatterplot(x=filtered_data['pm2.5_aqi_value'], y=filtered_data['aqi_value'])\n",
    "plt.title('PM2.5 vs AQI')\n",
    "plt.xlabel('PM2.5 AQI Value')\n",
    "plt.ylabel('AQI Value')\n",
    "plt.show()"
   ]
  },
  {
   "cell_type": "markdown",
   "metadata": {},
   "source": [
    "### Correlation between PM2.5 and AQI"
   ]
  },
  {
   "cell_type": "code",
   "execution_count": 26,
   "metadata": {},
   "outputs": [
    {
     "name": "stdout",
     "output_type": "stream",
     "text": [
      "Correlation between PM2.5 and AQI: 0.9896381736631146\n"
     ]
    }
   ],
   "source": [
    "correlation = filtered_data['pm2.5_aqi_value'].corr(filtered_data['aqi_value'])\n",
    "print(f\"Correlation between PM2.5 and AQI: {correlation}\")\n"
   ]
  },
  {
   "cell_type": "markdown",
   "metadata": {},
   "source": [
    " a correlation coefficient of 0.9896381736631146 between PM2.5 and AQI strongly suggests that these two variables move together almost in tandem. This highlights the need for continued efforts to monitor and control air pollution, especially PM2.5, to maintain or improve air quality."
   ]
  },
  {
   "cell_type": "markdown",
   "metadata": {},
   "source": [
    "### Define features and target for modeling"
   ]
  },
  {
   "cell_type": "code",
   "execution_count": 27,
   "metadata": {},
   "outputs": [
    {
     "name": "stdout",
     "output_type": "stream",
     "text": [
      "Mean Squared Error: 267.57818660415654\n",
      "R^2 Score: 0.9259522106238458\n"
     ]
    }
   ],
   "source": [
    "features = ['co_aqi_value\\t', 'ozone_aqi_value', 'no2_aqi_value']\n",
    "features_present = [feature for feature in features if feature in filtered_data.columns]\n",
    "\n",
    "if features_present:\n",
    "    X = filtered_data[features_present]\n",
    "    y = filtered_data['pm2.5_aqi_value']\n",
    "\n",
    "    # Split data into training and testing sets\n",
    "    X_train, X_test, y_train, y_test = train_test_split(X, y, test_size=0.2, random_state=42)\n",
    "    \n",
    "    # Train a Random Forest Regressor model\n",
    "    model = RandomForestRegressor(n_estimators=100, random_state=42)\n",
    "    model.fit(X_train, y_train)\n",
    "    y_pred = model.predict(X_test)\n",
    "    \n",
    "    # Evaluate the model\n",
    "    mse = mean_squared_error(y_test, y_pred)\n",
    "    r2 = r2_score(y_test, y_pred)\n",
    "\n",
    "    print(f'Mean Squared Error: {mse}')\n",
    "    print(f'R^2 Score: {r2}')\n",
    "else:\n",
    "    print(\"Required feature columns are not present in the dataset.\")"
   ]
  },
  {
   "cell_type": "markdown",
   "metadata": {},
   "source": [
    "The relatively low MSE combined with a high  R^2  score generally indicates a model that has a good fit to the data. While the MSE provides a raw measure of error magnitude in the same units as the target variable, the  R^2  score gives a scaled indication of how much of the total variation in the dependent variable your model is capturing.\n",
    "\n",
    "Goodness of Fit: In practical terms, these metrics suggest that the model is performing well in terms of both absolute errors (MSE) and in proportion of variance explained ( R^2 ), which is often desirable in a predictive model.\n"
   ]
  },
  {
   "cell_type": "markdown",
   "metadata": {},
   "source": [
    "### Explanation\n",
    "\n",
    "1.\tData Loading and Initial Inspection:\n",
    "\tLoading the dataset and display the first few rows to ensure it is correctly loaded.\n",
    "\tDisplaying the column names to inspect what is available.\n",
    "\n",
    "2.\tHandling Missing Values:\n",
    "\t•\tFilling missing values in numeric columns with their mean values.\n",
    "\n",
    "3.\tData Filtering:\n",
    "\t•\tFiltering data based on the selected country \n",
    "\n",
    "4.\tVisualizations:\n",
    "\t•\tPloting the distribution of pm2.5_aqi_value.\n",
    "\t•\tCreating a scatter plot to show the relationship between pm2.5_aqi_value and aqi_value.\n",
    "\n",
    "5.\tCorrelation Calculation:\n",
    "\t•\tCalculate and display the correlation between pm2.5_aqi_value and aqi_value.\n",
    "\t\n",
    "6.\tModeling:\n",
    "\t•\tDefine features and target for the Random Forest Regressor model.\n",
    "\t•\tSplit the data into training and testing sets.\n",
    "\t•\tTrain the model, make predictions, and evaluate performance using Mean Squared Error (MSE) and R-squared (R²) score."
   ]
  }
 ],
 "metadata": {
  "kernelspec": {
   "display_name": "env",
   "language": "python",
   "name": "python3"
  },
  "language_info": {
   "codemirror_mode": {
    "name": "ipython",
    "version": 3
   },
   "file_extension": ".py",
   "mimetype": "text/x-python",
   "name": "python",
   "nbconvert_exporter": "python",
   "pygments_lexer": "ipython3",
   "version": "3.9.6"
  }
 },
 "nbformat": 4,
 "nbformat_minor": 2
}
